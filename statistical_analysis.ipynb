{
 "cells": [
  {
   "cell_type": "code",
   "id": "initial_id",
   "metadata": {
    "collapsed": true,
    "ExecuteTime": {
     "end_time": "2024-09-25T20:52:46.837894Z",
     "start_time": "2024-09-25T20:43:43.797973Z"
    }
   },
   "source": [
    "import numpy as np\n",
    "import pandas as pd\n",
    "from scipy.stats import kstest, shapiro, ttest_rel\n",
    "\n",
    "from package.idw import holdout_idw, kfoldcv_idw\n",
    "from package.kriging import holdout_kriging, kfoldcv_kriging\n",
    "\n",
    "\n",
    "readings = pd.read_csv(\"merged_data.csv\")\n",
    "boundary = pd.read_csv(\"boundary_tres.csv\")\n",
    "\n",
    "rmse_results1 = holdout_idw(readings, boundary, 100, 2, 0.8)\n",
    "rmse_results2 = holdout_kriging(readings, boundary, 100, 100, 0.8)\n",
    "rmse_results3 = kfoldcv_idw(readings, boundary, 100, 2, 6)\n",
    "rmse_results4 = kfoldcv_kriging(readings, boundary, 100, 10, 6)\n",
    "rmse_results5 = kfoldcv_idw(readings, boundary, 100, 2, 18)\n",
    "rmse_results6 = kfoldcv_kriging(readings, boundary, 100, 10, 18)\n",
    "\n",
    "dataframes = [pd.DataFrame(list(results.items()), columns=['timestamp', 'rmse']) for results in [rmse_results1, rmse_results2, rmse_results3, rmse_results4, rmse_results5, rmse_results6]]\n",
    "titles = ['Holdout IDW', 'Holdout Kriging', 'K-fold IDW', 'K-fold Kriging', 'LOOCV IDW', 'LOOCV Kriging']"
   ],
   "outputs": [
    {
     "name": "stdout",
     "output_type": "stream",
     "text": [
      "1\n",
      "2\n",
      "3\n",
      "4\n",
      "5\n",
      "6\n"
     ]
    }
   ],
   "execution_count": 7
  },
  {
   "metadata": {
    "ExecuteTime": {
     "end_time": "2024-09-25T23:00:41.101709Z",
     "start_time": "2024-09-25T23:00:41.070437Z"
    }
   },
   "cell_type": "code",
   "source": [
    "summary_stats = {}\n",
    "\n",
    "for df, title in zip(dataframes, titles):\n",
    "    summary_stats[title] = {\n",
    "        'mean': df['rmse'].mean(),\n",
    "        'median': df['rmse'].median(),\n",
    "        'min': df['rmse'].min(),\n",
    "        'max': df['rmse'].max(),\n",
    "        'std': df['rmse'].std()\n",
    "    }\n",
    "\n",
    "methods_results = pd.DataFrame(summary_stats).T\n",
    "print(methods_results)\n",
    "\n",
    "latex_table = methods_results.to_latex(index=True, column_format='|c|c|c|c|c|c|', bold_rows=True, float_format=\"%.2f\", escape=False)\n",
    "\n",
    "with open('methods_results.tex', 'w') as f:\n",
    "    f.write(latex_table)"
   ],
   "id": "41c7843a25d596ae",
   "outputs": [
    {
     "name": "stdout",
     "output_type": "stream",
     "text": [
      "                       mean     median        min         max        std\n",
      "Holdout IDW       90.130219  69.181322  10.959524  233.912695  67.039400\n",
      "Holdout Kriging   97.427703  76.828372  14.492401  245.099148  71.577935\n",
      "K-fold IDW       102.597679  93.496059  44.018456  191.192103  43.462948\n",
      "K-fold Kriging   107.284302  96.774923  41.654320  200.765702  46.683608\n",
      "LOOCV IDW         83.576592  75.040236  31.232982  163.276827  40.576969\n",
      "LOOCV Kriging     89.060384  80.082074  29.395128  175.293571  44.068661\n"
     ]
    }
   ],
   "execution_count": 40
  },
  {
   "metadata": {
    "ExecuteTime": {
     "end_time": "2024-09-25T23:00:42.118463Z",
     "start_time": "2024-09-25T23:00:42.102819Z"
    }
   },
   "cell_type": "code",
   "source": [
    "df_list = []\n",
    "\n",
    "for df, method in zip(dataframes, titles):\n",
    "    df['method'] = method \n",
    "    df_list.append(df) \n",
    "\n",
    "combined_df = pd.concat(df_list, ignore_index=True)\n",
    "\n",
    "combined_df[['Validation Technique', 'Interpolation Method']] = combined_df['method'].str.split(' ', n=1, expand=True)\n",
    "\n",
    "combined_df.drop(columns=['method'], inplace=True)\n",
    "combined_df.rename(columns={'rmse': 'RMSE'}, inplace=True)\n",
    "\n",
    "print(combined_df)"
   ],
   "id": "3ff4a2c81a56917f",
   "outputs": [
    {
     "name": "stdout",
     "output_type": "stream",
     "text": [
      "                      timestamp        RMSE Validation Technique  \\\n",
      "0     2023-07-15 00:00:00+00:00  172.559049              Holdout   \n",
      "1     2023-07-15 01:00:00+00:00  171.463392              Holdout   \n",
      "2     2023-07-15 02:00:00+00:00  171.117183              Holdout   \n",
      "3     2023-07-15 03:00:00+00:00  172.352945              Holdout   \n",
      "4     2023-07-15 04:00:00+00:00  171.070100              Holdout   \n",
      "...                         ...         ...                  ...   \n",
      "2443  2023-07-31 19:00:00+00:00  171.664969                LOOCV   \n",
      "2444  2023-07-31 20:00:00+00:00  170.169762                LOOCV   \n",
      "2445  2023-07-31 21:00:00+00:00  172.285392                LOOCV   \n",
      "2446  2023-07-31 22:00:00+00:00  168.934264                LOOCV   \n",
      "2447  2023-07-31 23:00:00+00:00  175.293571                LOOCV   \n",
      "\n",
      "     Interpolation Method  \n",
      "0                     IDW  \n",
      "1                     IDW  \n",
      "2                     IDW  \n",
      "3                     IDW  \n",
      "4                     IDW  \n",
      "...                   ...  \n",
      "2443              Kriging  \n",
      "2444              Kriging  \n",
      "2445              Kriging  \n",
      "2446              Kriging  \n",
      "2447              Kriging  \n",
      "\n",
      "[2448 rows x 4 columns]\n"
     ]
    }
   ],
   "execution_count": 41
  },
  {
   "metadata": {
    "ExecuteTime": {
     "end_time": "2024-09-25T22:30:54.083170Z",
     "start_time": "2024-09-25T22:30:54.067619Z"
    }
   },
   "cell_type": "code",
   "source": [
    "r1 = pd.DataFrame(list(rmse_results1.items()), columns=['timestamp', 'rmse'])\n",
    "r2 = pd.DataFrame(list(rmse_results2.items()), columns=['timestamp', 'rmse'])\n",
    "\n",
    "r1.rename(columns={'rmse': 'RMSE_IDW'}, inplace=True)\n",
    "r2.rename(columns={'rmse': 'RMSE_Kriging'}, inplace=True)\n",
    "\n",
    "combined_rmse_df = pd.merge(r1[['timestamp', 'RMSE_IDW']], \n",
    "                             r2[['timestamp', 'RMSE_Kriging']], \n",
    "                             on='timestamp')\n",
    "\n",
    "sampled_df = combined_rmse_df.sample(n=50, random_state=0)\n",
    "sample_differences = sampled_df['RMSE_IDW'] - sampled_df['RMSE_Kriging']\n",
    "full_differences = combined_rmse_df['RMSE_IDW'] - combined_rmse_df['RMSE_Kriging']\n",
    "\n",
    "shapiro_test_result = shapiro(sample_differences)\n",
    "shapiro_statistic = shapiro_test_result.statistic\n",
    "shapiro_pvalue = shapiro_test_result.pvalue\n",
    "\n",
    "print(f'Shapiro-Wilk Test Statistic: {shapiro_statistic}')\n",
    "print(f'Shapiro-Wilk Test p-value: {shapiro_pvalue}')\n",
    "\n",
    "if shapiro_pvalue > 0.05:\n",
    "    print(\"Non si può rifiutare l'ipotesi nulla: i dati possono essere considerati normalmente distribuiti.\")\n",
    "else:\n",
    "    print(\"Rifiutiamo l'ipotesi nulla: i dati non seguono una distribuzione normale.\")"
   ],
   "id": "47443e9e966078ec",
   "outputs": [
    {
     "name": "stdout",
     "output_type": "stream",
     "text": [
      "Shapiro-Wilk Test Statistic: 0.9599182601834915\n",
      "Shapiro-Wilk Test p-value: 0.08819467329465562\n",
      "Non si può rifiutare l'ipotesi nulla: i dati possono essere considerati normalmente distribuiti.\n"
     ]
    }
   ],
   "execution_count": 33
  },
  {
   "metadata": {
    "ExecuteTime": {
     "end_time": "2024-09-25T22:14:26.975564Z",
     "start_time": "2024-09-25T22:14:26.959979Z"
    }
   },
   "cell_type": "code",
   "source": [
    "ks_statistic, p_value_ks = kstest(full_differences, 'norm', args=(full_differences.mean(), full_differences.std()))\n",
    "\n",
    "print(f\"Statistiche K-S: {ks_statistic}\")\n",
    "print(f\"p-value del test K-S: {p_value_ks}\")\n",
    "\n",
    "if p_value_ks > 0.05:\n",
    "    print(\"Non si può rifiutare l'ipotesi nulla: i dati possono essere considerati normalmente distribuiti.\")\n",
    "else:\n",
    "    print(\"Rifiutiamo l'ipotesi nulla: i dati non seguono una distribuzione normale.\")"
   ],
   "id": "326fbe500d040370",
   "outputs": [
    {
     "name": "stdout",
     "output_type": "stream",
     "text": [
      "Statistiche K-S: 0.07698989004150136\n",
      "p-value del test K-S: 0.015013541281027802\n",
      "Rifiutiamo l'ipotesi nulla: i dati non seguono una distribuzione normale.\n"
     ]
    }
   ],
   "execution_count": 23
  },
  {
   "metadata": {
    "ExecuteTime": {
     "end_time": "2024-09-25T22:17:03.629015Z",
     "start_time": "2024-09-25T22:17:03.597741Z"
    }
   },
   "cell_type": "code",
   "source": [
    "t_stat, p_value = ttest_rel(full_differences, np.zeros(len(full_differences)))\n",
    "\n",
    "print(f\"T-statistic: {t_stat:.4f}\")\n",
    "print(f\"P-value: {p_value:.4f}\")\n",
    "\n",
    "if p_value < 0.05:\n",
    "    print(\"Rifiutiamo l'ipotesi nulla: C'è evidenza statistica di una differenza significativa nelle prestazioni tra i due metodi di interpolazione.\")\n",
    "else:\n",
    "    print(\"Non si può rifiutare l'ipotesi nulla: on ci sono evidenze statistiche sufficienti per affermare che ci sia una differenza nelle prestazioni tra i due metodi di interpolazione\")"
   ],
   "id": "a29bf503790ea418",
   "outputs": [
    {
     "name": "stdout",
     "output_type": "stream",
     "text": [
      "T-statistic: -17.9226\n",
      "P-value: 0.0000\n",
      "Rifiutiamo l'ipotesi nulla: C'è evidenza statistica di una differenza significativa nelle prestazioni tra i due metodi di interpolazione.\n"
     ]
    }
   ],
   "execution_count": 25
  },
  {
   "metadata": {
    "ExecuteTime": {
     "end_time": "2024-09-25T22:34:44.026542Z",
     "start_time": "2024-09-25T22:34:44.011058Z"
    }
   },
   "cell_type": "code",
   "source": [
    "r3 = pd.DataFrame(list(rmse_results3.items()), columns=['timestamp', 'rmse'])\n",
    "r4 = pd.DataFrame(list(rmse_results4.items()), columns=['timestamp', 'rmse'])\n",
    "\n",
    "r3.rename(columns={'rmse': 'RMSE_IDW'}, inplace=True)\n",
    "r4.rename(columns={'rmse': 'RMSE_Kriging'}, inplace=True)\n",
    "\n",
    "combined_rmse_df = pd.merge(r3[['timestamp', 'RMSE_IDW']], \n",
    "                             r4[['timestamp', 'RMSE_Kriging']], \n",
    "                             on='timestamp')\n",
    "\n",
    "sampled_df = combined_rmse_df.sample(n=50, random_state=0)\n",
    "sample_differences = sampled_df['RMSE_IDW'] - sampled_df['RMSE_Kriging']\n",
    "full_differences = combined_rmse_df['RMSE_IDW'] - combined_rmse_df['RMSE_Kriging']\n",
    "\n",
    "shapiro_test_result = shapiro(sample_differences)\n",
    "shapiro_statistic = shapiro_test_result.statistic\n",
    "shapiro_pvalue = shapiro_test_result.pvalue\n",
    "\n",
    "print(f'Shapiro-Wilk Test Statistic: {shapiro_statistic}')\n",
    "print(f'Shapiro-Wilk Test p-value: {shapiro_pvalue}')\n",
    "\n",
    "if shapiro_pvalue > 0.05:\n",
    "    print(\"Non si può rifiutare l'ipotesi nulla: i dati possono essere considerati normalmente distribuiti.\")\n",
    "else:\n",
    "    print(\"Rifiutiamo l'ipotesi nulla: i dati non seguono una distribuzione normale.\")"
   ],
   "id": "4b9822d3edc63218",
   "outputs": [
    {
     "name": "stdout",
     "output_type": "stream",
     "text": [
      "Shapiro-Wilk Test Statistic: 0.958089256748092\n",
      "Shapiro-Wilk Test p-value: 0.07393208172498472\n",
      "Non si può rifiutare l'ipotesi nulla: i dati possono essere considerati normalmente distribuiti.\n"
     ]
    }
   ],
   "execution_count": 34
  },
  {
   "metadata": {
    "ExecuteTime": {
     "end_time": "2024-09-25T22:35:27.120849Z",
     "start_time": "2024-09-25T22:35:27.089718Z"
    }
   },
   "cell_type": "code",
   "source": [
    "ks_statistic, p_value_ks = kstest(full_differences, 'norm', args=(full_differences.mean(), full_differences.std()))\n",
    "\n",
    "print(f\"Statistiche K-S: {ks_statistic}\")\n",
    "print(f\"p-value del test K-S: {p_value_ks}\")\n",
    "\n",
    "if p_value_ks > 0.05:\n",
    "    print(\"Non si può rifiutare l'ipotesi nulla: i dati possono essere considerati normalmente distribuiti.\")\n",
    "else:\n",
    "    print(\"Rifiutiamo l'ipotesi nulla: i dati non seguono una distribuzione normale.\")"
   ],
   "id": "d21a663fd2015586",
   "outputs": [
    {
     "name": "stdout",
     "output_type": "stream",
     "text": [
      "Statistiche K-S: 0.05849930778961793\n",
      "p-value del test K-S: 0.11775180454990986\n",
      "Non si può rifiutare l'ipotesi nulla: i dati possono essere considerati normalmente distribuiti.\n"
     ]
    }
   ],
   "execution_count": 35
  },
  {
   "metadata": {
    "ExecuteTime": {
     "end_time": "2024-09-25T22:35:57.766129Z",
     "start_time": "2024-09-25T22:35:57.750498Z"
    }
   },
   "cell_type": "code",
   "source": [
    "t_stat, p_value = ttest_rel(full_differences, np.zeros(len(full_differences)))\n",
    "\n",
    "print(f\"T-statistic: {t_stat:.4f}\")\n",
    "print(f\"P-value: {p_value:.4f}\")\n",
    "\n",
    "if p_value < 0.05:\n",
    "    print(\"Rifiutiamo l'ipotesi nulla: C'è evidenza statistica di una differenza significativa nelle prestazioni tra i due metodi di interpolazione.\")\n",
    "else:\n",
    "    print(\"Non si può rifiutare l'ipotesi nulla: on ci sono evidenze statistiche sufficienti per affermare che ci sia una differenza nelle prestazioni tra i due metodi di interpolazione\")"
   ],
   "id": "3ac0ff2487306751",
   "outputs": [
    {
     "name": "stdout",
     "output_type": "stream",
     "text": [
      "T-statistic: -9.8811\n",
      "P-value: 0.0000\n",
      "Rifiutiamo l'ipotesi nulla: C'è evidenza statistica di una differenza significativa nelle prestazioni tra i due metodi di interpolazione.\n"
     ]
    }
   ],
   "execution_count": 36
  },
  {
   "metadata": {
    "ExecuteTime": {
     "end_time": "2024-09-25T22:36:12.027841Z",
     "start_time": "2024-09-25T22:36:11.996639Z"
    }
   },
   "cell_type": "code",
   "source": [
    "r5 = pd.DataFrame(list(rmse_results5.items()), columns=['timestamp', 'rmse'])\n",
    "r6 = pd.DataFrame(list(rmse_results6.items()), columns=['timestamp', 'rmse'])\n",
    "\n",
    "r5.rename(columns={'rmse': 'RMSE_IDW'}, inplace=True)\n",
    "r6.rename(columns={'rmse': 'RMSE_Kriging'}, inplace=True)\n",
    "\n",
    "combined_rmse_df = pd.merge(r5[['timestamp', 'RMSE_IDW']], \n",
    "                             r6[['timestamp', 'RMSE_Kriging']], \n",
    "                             on='timestamp')\n",
    "\n",
    "sampled_df = combined_rmse_df.sample(n=50, random_state=0)\n",
    "sample_differences = sampled_df['RMSE_IDW'] - sampled_df['RMSE_Kriging']\n",
    "full_differences = combined_rmse_df['RMSE_IDW'] - combined_rmse_df['RMSE_Kriging']\n",
    "\n",
    "shapiro_test_result = shapiro(sample_differences)\n",
    "shapiro_statistic = shapiro_test_result.statistic\n",
    "shapiro_pvalue = shapiro_test_result.pvalue\n",
    "\n",
    "print(f'Shapiro-Wilk Test Statistic: {shapiro_statistic}')\n",
    "print(f'Shapiro-Wilk Test p-value: {shapiro_pvalue}')\n",
    "\n",
    "if shapiro_pvalue > 0.05:\n",
    "    print(\"Non si può rifiutare l'ipotesi nulla: i dati possono essere considerati normalmente distribuiti.\")\n",
    "else:\n",
    "    print(\"Rifiutiamo l'ipotesi nulla: i dati non seguono una distribuzione normale.\")"
   ],
   "id": "d6187ad3bcc787a2",
   "outputs": [
    {
     "name": "stdout",
     "output_type": "stream",
     "text": [
      "Shapiro-Wilk Test Statistic: 0.9688533091133603\n",
      "Shapiro-Wilk Test p-value: 0.20779980040587975\n",
      "Non si può rifiutare l'ipotesi nulla: i dati possono essere considerati normalmente distribuiti.\n"
     ]
    }
   ],
   "execution_count": 37
  },
  {
   "metadata": {
    "ExecuteTime": {
     "end_time": "2024-09-25T22:36:44.131929Z",
     "start_time": "2024-09-25T22:36:44.100679Z"
    }
   },
   "cell_type": "code",
   "source": [
    "ks_statistic, p_value_ks = kstest(full_differences, 'norm', args=(full_differences.mean(), full_differences.std()))\n",
    "\n",
    "print(f\"Statistiche K-S: {ks_statistic}\")\n",
    "print(f\"p-value del test K-S: {p_value_ks}\")\n",
    "\n",
    "if p_value_ks > 0.05:\n",
    "    print(\"Non si può rifiutare l'ipotesi nulla: i dati possono essere considerati normalmente distribuiti.\")\n",
    "else:\n",
    "    print(\"Rifiutiamo l'ipotesi nulla: i dati non seguono una distribuzione normale.\")"
   ],
   "id": "973208a772826148",
   "outputs": [
    {
     "name": "stdout",
     "output_type": "stream",
     "text": [
      "Statistiche K-S: 0.07864280838438042\n",
      "p-value del test K-S: 0.0121518014474379\n",
      "Rifiutiamo l'ipotesi nulla: i dati non seguono una distribuzione normale.\n"
     ]
    }
   ],
   "execution_count": 38
  },
  {
   "metadata": {
    "ExecuteTime": {
     "end_time": "2024-09-25T22:37:23.822882Z",
     "start_time": "2024-09-25T22:37:23.791703Z"
    }
   },
   "cell_type": "code",
   "source": [
    "t_stat, p_value = ttest_rel(full_differences, np.zeros(len(full_differences)))\n",
    "\n",
    "print(f\"T-statistic: {t_stat:.4f}\")\n",
    "print(f\"P-value: {p_value:.4f}\")\n",
    "\n",
    "if p_value < 0.05:\n",
    "    print(\"Rifiutiamo l'ipotesi nulla: C'è evidenza statistica di una differenza significativa nelle prestazioni tra i due metodi di interpolazione.\")\n",
    "else:\n",
    "    print(\"Non si può rifiutare l'ipotesi nulla: on ci sono evidenze statistiche sufficienti per affermare che ci sia una differenza nelle prestazioni tra i due metodi di interpolazione\")"
   ],
   "id": "218e9d23defc6f58",
   "outputs": [
    {
     "name": "stdout",
     "output_type": "stream",
     "text": [
      "T-statistic: -11.4890\n",
      "P-value: 0.0000\n",
      "Rifiutiamo l'ipotesi nulla: C'è evidenza statistica di una differenza significativa nelle prestazioni tra i due metodi di interpolazione.\n"
     ]
    }
   ],
   "execution_count": 39
  },
  {
   "metadata": {},
   "cell_type": "code",
   "outputs": [],
   "execution_count": null,
   "source": "",
   "id": "b1e132e3d51fa75d"
  }
 ],
 "metadata": {
  "kernelspec": {
   "display_name": "Python 3",
   "language": "python",
   "name": "python3"
  },
  "language_info": {
   "codemirror_mode": {
    "name": "ipython",
    "version": 2
   },
   "file_extension": ".py",
   "mimetype": "text/x-python",
   "name": "python",
   "nbconvert_exporter": "python",
   "pygments_lexer": "ipython2",
   "version": "2.7.6"
  }
 },
 "nbformat": 4,
 "nbformat_minor": 5
}
